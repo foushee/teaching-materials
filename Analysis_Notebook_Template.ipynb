{
 "cells": [
  {
   "cell_type": "code",
   "execution_count": 13,
   "metadata": {},
   "outputs": [
    {
     "data": {
      "text/html": [
       "<style>h1, h2, h3, h4 {margin: 0.25em 0em 0.5em !important;} h1 {color:#a53bff;} div.note {background-color: #f1e6ff; border-color: #a53bff; border-left: 7px solid #a53bff; padding: 0.75em; line-height: 120%; margin-bottom:1.25em;} div.meta {border-color: #ff3bcb; border:1px solid #ff3bcb;} font.note{font-size: 105%;} hr {display: block;margin-top: 0.5em;margin-bottom: 0.5em; border-width: 2px;border-color: #e3c2ff;} </style>"
      ],
      "text/plain": [
       "<IPython.core.display.HTML object>"
      ]
     },
     "execution_count": 13,
     "metadata": {},
     "output_type": "execute_result"
    }
   ],
   "source": [
    "################################################################################\n",
    "## Ruthe Foushee\n",
    "## written for student reference 12.10.19\n",
    "## updated 02.28.20 following demo for students in Psych205: Statistical Models\n",
    "################################################################################\n",
    "from IPython.core.display import HTML\n",
    "HTML('<style>h1, h2, h3, h4 {margin: 0.25em 0em 0.5em !important;} h1 {color:#a53bff;} div.note {background-color: #f1e6ff; border-color: #a53bff; border-left: 7px solid #a53bff; padding: 0.75em; line-height: 120%; margin-bottom:1.25em;} div.meta {border-color: #ff3bcb; border:1px solid #ff3bcb;} font.note{font-size: 105%;} hr {display: block;margin-top: 0.5em;margin-bottom: 0.5em; border-width: 2px;border-color: #e3c2ff;} </style>')"
   ]
  },
  {
   "cell_type": "markdown",
   "metadata": {},
   "source": [
    "<div class=\"note\">\n",
    "<h4>Some general points about best practices:</h4>\n",
    "\n",
    "<ul> For readability, keep lines <b>under 80 characters</b> <br> \n",
    "    (line breaks will not affect your code)</ul>\n",
    "\n",
    "<ul> It is good practice to explicitly identify the \"namespace\" </br>\n",
    "    (the library that the function comes from) when you use them, </br>\n",
    "    like this: <code>dplyr::gather</code> \n",
    "    instead of just: <code>gather</code> </br> </ul>\n",
    "\n",
    "<ul> To establish the best naming conventions moving forward, </br>\n",
    "    refer to the R  <a href=\"https://google.github.io/styleguide/Rguide.html\">style guide</a> &mdash; </br> \n",
    "    Your future self and anyone who reads your code will thank you!! </ul>\n",
    "\n",
    "<ul> DO NOT USE <code>attach</code> </ul>\n",
    "\n",
    "<h4> Resources:</h4>\n",
    "<ul> <a href=\"http://colorbrewer2.org/#type=sequential&scheme=BuGn&n=3\">color brewer color palettes</a> </ul>\n",
    "<ul> <a href=\"http://www.stat.columbia.edu/~tzheng/files/Rcolor.pdf\">individual named colors</a> </ul>\n",
    "\n",
    "<h4> A note about this template:</h4>\n",
    "<ul> This template is intended for an analysis script that you should run<br>\n",
    "    <i>after</i> you have manipulated your dataframe into long format <br>\n",
    "    using a different script, and exported it at the end of that script: <br>\n",
    "    <code> export.csv(wideform, \"pathname/longform.csv\")</code>. <br>\n",
    "    You don't want to have that in the same doc, because <br>\n",
    "    you don't need to do that work over again. <br>\n",
    "    You'll explain this, briefly, in the Metadata section, <a href=\"#description\">here</a> </ul>\n",
    "</div>"
   ]
  },
  {
   "cell_type": "markdown",
   "metadata": {},
   "source": [
    "---\n",
    "# Metadata\n",
    "## Descriptive Title: Project Name & Purpose of Script\n",
    "## Your Name & Date of Creation\n",
    "<a id=\"description\">longer description of script purpose...</a>\n",
    "_longer description of script purpose..._\n",
    "\n",
    "<div class=\"note\">\n",
    "<font class=\"note\">\n",
    "    <b>Note:</b> This template is for an analysis script that you should run <i>after</i><br>\n",
    "you have manipulated your dataframe into long format using a different script, and <br>\n",
    "exported it at the end of that script: \"export.csv(wideform, \"longform.csv\"). <br>\n",
    "You don't want to have that in the same doc, because <br>\n",
    "    you don't need to do that work over again. </font>\n",
    "</div>\n",
    "\n",
    "_history of major edits..._\n",
    "<hr>"
   ]
  },
  {
   "cell_type": "markdown",
   "metadata": {},
   "source": [
    "# Preamble\n",
    "### Define file paths and/or set your working directory\n",
    "\n",
    "<font class=\"note\"> \n",
    "    <i>If included in archive or repository, describe relevant file structure</i> \n",
    "</font>"
   ]
  },
  {
   "cell_type": "code",
   "execution_count": null,
   "metadata": {},
   "outputs": [],
   "source": [
    "path <- \"Users/foushee/GitHub/myProject/\""
   ]
  },
  {
   "cell_type": "markdown",
   "metadata": {},
   "source": [
    "### Load Libraries\n",
    "\n",
    "\n",
    "<font class=\"note\">\n",
    "    <i>Use comments to note specific functions used and/or package dependencies</i>\n",
    "</font>"
   ]
  },
  {
   "cell_type": "code",
   "execution_count": null,
   "metadata": {},
   "outputs": [],
   "source": [
    "library(ggplot2) # plotting functions \n",
    "library(dplyr) # for data manipulation: summarize, gather\n",
    "library(lme4) # contains lmer and glmer functions for constructing mixed effects models\n",
    "library(boot) # contains bootstrap function\n",
    "library{RColorBrewer} # contains color palettes for plotting\n",
    "library(corrplot) # contains corrplot function"
   ]
  },
  {
   "cell_type": "markdown",
   "metadata": {},
   "source": [
    "### Define new functions"
   ]
  },
  {
   "cell_type": "code",
   "execution_count": null,
   "metadata": {},
   "outputs": [],
   "source": [
    "# function for bootstrapping confidence intervals, requires \"boot\" package \n",
    "\n",
    "Theta <- function(x,xdata,na.rm=T) {\n",
    "    mean(xdata[x],na.rm=na.rm)\n",
    "}\n",
    "\n",
    "CiLow <- function(x,na.rm=T) {\n",
    "  mean(x,na.rm=na.rm) - quantile(\n",
    "      boot::bootstrap(1:length(x),1000,theta,x,na.rm=na.rm)$thetastar,\n",
    "      .025,\n",
    "      na.rm=na.rm)\n",
    "}\n",
    "\n",
    "CiHigh <- function(x,na.rm=T) {\n",
    "  quantile(boot::bootstrap(1:length(x),1000,theta,x,na.rm=na.rm)$thetastar,\n",
    "           .975,na.rm=na.rm) - mean(x,na.rm=na.rm)\n",
    "}\n",
    "\n",
    "NaMean <- function(x) {\n",
    "    mean(x,na.rm=T)\n",
    "                       }\n",
    "\n",
    "NaSum <- function(x) {\n",
    "    sum(x,na.rm=T)\n",
    "                      }"
   ]
  },
  {
   "cell_type": "markdown",
   "metadata": {},
   "source": [
    "### Set theme and global parameters"
   ]
  },
  {
   "cell_type": "code",
   "execution_count": null,
   "metadata": {},
   "outputs": [],
   "source": [
    "options(\"scipen\"=100) # penalize scientific notation, so decimals are printed, e.g., \".007\" NOT 7e-3\n",
    "options(\"digits\"=4) # number of decimal places to round to"
   ]
  },
  {
   "cell_type": "code",
   "execution_count": null,
   "metadata": {},
   "outputs": [],
   "source": [
    "#### ggplot variables for plotting\n",
    "\n",
    "#### for figures for paper\n",
    "condition.colors <- c('gray80', 'gray42')\n",
    "\n",
    "#### plot themes\n",
    "manuscript.theme <- theme(\n",
    "        panel.border = element_rect(colour=\"gray30\", fill=NA),\n",
    "        axis.title.x = element_text(size=12, colour=\"gray30\", family='sans'),\n",
    "        axis.text.x = element_text(size=12, colour=\"gray30\", family='sans'),\n",
    "        axis.ticks.x = element_blank(),\n",
    "        axis.title.y = element_text(size=12, colour=\"gray30\", family='sans'),\n",
    "        axis.text.y = element_text(size=12, colour=\"gray30\", family='sans'),\n",
    "        panel.background = element_blank(),\n",
    "        panel.grid.major.y = element_blank(),\n",
    "        panel.grid.minor.y = element_blank(),\n",
    "        panel.grid.major.x = element_blank(),\n",
    "        plot.title = element_blank(),\n",
    "        legend.position=\"right\",\n",
    "        legend.title = element_text(size=12, colour=\"gray30\", family='sans'),\n",
    "        legend.text  = element_text(size=12, colour=\"gray30\", family='sans')\n",
    "    )"
   ]
  },
  {
   "cell_type": "markdown",
   "metadata": {},
   "source": [
    "---\n",
    "# Read in Data"
   ]
  },
  {
   "cell_type": "raw",
   "metadata": {},
   "source": [
    "df <- read.csv('longform.csv')"
   ]
  },
  {
   "cell_type": "raw",
   "metadata": {},
   "source": [
    "str(df)"
   ]
  },
  {
   "cell_type": "markdown",
   "metadata": {},
   "source": [
    "### Standardize Variable Names and Define New Variables"
   ]
  },
  {
   "cell_type": "raw",
   "metadata": {},
   "source": [
    "dplyr::rename()"
   ]
  },
  {
   "cell_type": "markdown",
   "metadata": {},
   "source": [
    "### Relevel Existing Variables"
   ]
  },
  {
   "cell_type": "raw",
   "metadata": {},
   "source": [
    "relevel()\n",
    "factor()"
   ]
  },
  {
   "cell_type": "markdown",
   "metadata": {},
   "source": [
    "---\n",
    "# Demographics & Descriptives\n",
    "### Total sample size and composition"
   ]
  },
  {
   "cell_type": "code",
   "execution_count": null,
   "metadata": {},
   "outputs": [],
   "source": [
    "dplyr::summarize()\n",
    "dplyr::n()"
   ]
  },
  {
   "cell_type": "markdown",
   "metadata": {},
   "source": [
    "### Number of observations per participant"
   ]
  },
  {
   "cell_type": "code",
   "execution_count": null,
   "metadata": {},
   "outputs": [],
   "source": []
  },
  {
   "cell_type": "markdown",
   "metadata": {},
   "source": [
    "### Sample size and composition by condition"
   ]
  },
  {
   "cell_type": "code",
   "execution_count": null,
   "metadata": {},
   "outputs": [],
   "source": []
  },
  {
   "cell_type": "markdown",
   "metadata": {},
   "source": [
    "## Exclusions\n",
    "### Number, reason, demographic composition"
   ]
  },
  {
   "cell_type": "code",
   "execution_count": null,
   "metadata": {},
   "outputs": [],
   "source": []
  },
  {
   "cell_type": "markdown",
   "metadata": {},
   "source": [
    "---\n",
    "# Define New Data frames\n",
    "### Drop exclusions\n",
    "#### If needed, data frames by condition, population, trial type, etc."
   ]
  },
  {
   "cell_type": "code",
   "execution_count": null,
   "metadata": {},
   "outputs": [],
   "source": []
  },
  {
   "cell_type": "markdown",
   "metadata": {},
   "source": [
    "---\n",
    "# Preliminary Data Visualizations\n",
    "### Distribution of responses, scores, etc."
   ]
  },
  {
   "cell_type": "raw",
   "metadata": {},
   "source": [
    "ggplot() +\n",
    "    geom_density()\n",
    "    \n",
    "corrplot()"
   ]
  },
  {
   "cell_type": "markdown",
   "metadata": {},
   "source": [
    "---\n",
    "# Analyses: _Dependent Variable A_\n",
    "### Means and confidence intervals of Dependent Variable A"
   ]
  },
  {
   "cell_type": "code",
   "execution_count": null,
   "metadata": {},
   "outputs": [],
   "source": [
    "dplyr::summarize"
   ]
  },
  {
   "cell_type": "markdown",
   "metadata": {},
   "source": [
    "## Models\n",
    "#### _Model type, values of Dependent Variable A (e.g., how coded)_\n",
    "#### _Predictors considered, with values_"
   ]
  },
  {
   "cell_type": "markdown",
   "metadata": {},
   "source": [
    "### Model construction\n",
    "#### Define null model"
   ]
  },
  {
   "cell_type": "code",
   "execution_count": null,
   "metadata": {},
   "outputs": [],
   "source": []
  },
  {
   "cell_type": "markdown",
   "metadata": {},
   "source": [
    "#### Update null model"
   ]
  },
  {
   "cell_type": "code",
   "execution_count": null,
   "metadata": {},
   "outputs": [],
   "source": []
  },
  {
   "cell_type": "markdown",
   "metadata": {},
   "source": [
    "### Model comparison"
   ]
  },
  {
   "cell_type": "code",
   "execution_count": null,
   "metadata": {},
   "outputs": [],
   "source": []
  },
  {
   "cell_type": "markdown",
   "metadata": {},
   "source": [
    "_Interpretation of model comparison, including statistics to report._"
   ]
  },
  {
   "cell_type": "markdown",
   "metadata": {},
   "source": [
    "### Model selection\n",
    "#### _Description of winning model_\n",
    "#### Coefficient values and confidence intervals"
   ]
  },
  {
   "cell_type": "code",
   "execution_count": null,
   "metadata": {},
   "outputs": [],
   "source": []
  },
  {
   "cell_type": "markdown",
   "metadata": {},
   "source": [
    "_Plain-English interpretation of model coefficients or odds ratios._"
   ]
  },
  {
   "cell_type": "markdown",
   "metadata": {},
   "source": [
    "# Plots\n",
    "### _Plot Description_"
   ]
  },
  {
   "cell_type": "code",
   "execution_count": null,
   "metadata": {},
   "outputs": [],
   "source": []
  }
 ],
 "metadata": {
  "kernelspec": {
   "display_name": "Python 3",
   "language": "python",
   "name": "python3"
  },
  "language_info": {
   "codemirror_mode": {
    "name": "ipython",
    "version": 3
   },
   "file_extension": ".py",
   "mimetype": "text/x-python",
   "name": "python",
   "nbconvert_exporter": "python",
   "pygments_lexer": "ipython3",
   "version": "3.6.8"
  }
 },
 "nbformat": 4,
 "nbformat_minor": 2
}
